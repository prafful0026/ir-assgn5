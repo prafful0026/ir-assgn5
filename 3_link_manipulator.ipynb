{
  "nbformat": 4,
  "nbformat_minor": 0,
  "metadata": {
    "colab": {
      "name": "Untitled1.ipynb",
      "provenance": []
    },
    "kernelspec": {
      "name": "python3",
      "display_name": "Python 3"
    },
    "language_info": {
      "name": "python"
    }
  },
  "cells": [
    {
      "cell_type": "code",
      "metadata": {
        "id": "aWprP5u0NymD"
      },
      "source": [
        "import pandas as pd\n",
        "import math\n",
        "import random\n",
        "import matplotlib.pyplot as plt\n",
        "from sklearn.model_selection import train_test_split\n",
        "from keras import models\n",
        "from keras import layers\n",
        "from keras import regularizers\n",
        "import numpy as np"
      ],
      "execution_count": 1,
      "outputs": []
    },
    {
      "cell_type": "code",
      "metadata": {
        "id": "c1WfsiocNz-S"
      },
      "source": [
        "l1 = l2 = l3 = 7"
      ],
      "execution_count": 2,
      "outputs": []
    },
    {
      "cell_type": "code",
      "metadata": {
        "id": "8gYDuyTjN1do"
      },
      "source": [
        "## Generating dataset for training\n",
        "\n",
        "def three_link_manipulator_dataset():\n",
        "    rows = []\n",
        "    for i in range(1, 100000):\n",
        "        theta1 = round(random.uniform(0, math.pi), 2)\n",
        "        theta2 = round(random.uniform(-math.pi, 0), 2)\n",
        "        theta3 = round(random.uniform(-math.pi/2, math.pi/2), 2)\n",
        "        \n",
        "        x = round(l1*math.cos(theta1)+l2*math.cos(theta1+theta2)+l3*math.cos(theta1+theta2+theta3), 2)\n",
        "        y = round(l1*math.sin(theta1)+l2*math.sin(theta1+theta2)+l3*math.sin(theta1+theta2+theta3), 2)\n",
        "        phi = round(math.degrees(theta1)+math.degrees(theta2)+math.degrees(theta3), 2)\n",
        "        \n",
        "        rows.append([theta1, theta2, theta3, x, y, phi])\n",
        "\n",
        "    df = pd.DataFrame(rows, columns=['theta1', 'theta2', 'theta3', 'x', 'y', 'phi'])\n",
        "    df.to_csv('three_link.csv', index=False)\n",
        "    \n",
        "three_link_manipulator_dataset()"
      ],
      "execution_count": 3,
      "outputs": []
    },
    {
      "cell_type": "code",
      "metadata": {
        "colab": {
          "base_uri": "https://localhost:8080/",
          "height": 195
        },
        "id": "3RBpYrFRN5Ir",
        "outputId": "fa228617-5727-4cb2-974d-05af3928a746"
      },
      "source": [
        "three_link_data = pd.read_csv('three_link.csv')\n",
        "three_link_data.head()"
      ],
      "execution_count": 4,
      "outputs": [
        {
          "output_type": "execute_result",
          "data": {
            "text/html": [
              "<div>\n",
              "<style scoped>\n",
              "    .dataframe tbody tr th:only-of-type {\n",
              "        vertical-align: middle;\n",
              "    }\n",
              "\n",
              "    .dataframe tbody tr th {\n",
              "        vertical-align: top;\n",
              "    }\n",
              "\n",
              "    .dataframe thead th {\n",
              "        text-align: right;\n",
              "    }\n",
              "</style>\n",
              "<table border=\"1\" class=\"dataframe\">\n",
              "  <thead>\n",
              "    <tr style=\"text-align: right;\">\n",
              "      <th></th>\n",
              "      <th>theta1</th>\n",
              "      <th>theta2</th>\n",
              "      <th>theta3</th>\n",
              "      <th>x</th>\n",
              "      <th>y</th>\n",
              "      <th>phi</th>\n",
              "    </tr>\n",
              "  </thead>\n",
              "  <tbody>\n",
              "    <tr>\n",
              "      <th>0</th>\n",
              "      <td>2.90</td>\n",
              "      <td>-0.11</td>\n",
              "      <td>-0.78</td>\n",
              "      <td>-16.35</td>\n",
              "      <td>10.42</td>\n",
              "      <td>115.16</td>\n",
              "    </tr>\n",
              "    <tr>\n",
              "      <th>1</th>\n",
              "      <td>2.24</td>\n",
              "      <td>-0.35</td>\n",
              "      <td>-1.52</td>\n",
              "      <td>-0.01</td>\n",
              "      <td>14.67</td>\n",
              "      <td>21.20</td>\n",
              "    </tr>\n",
              "    <tr>\n",
              "      <th>2</th>\n",
              "      <td>3.08</td>\n",
              "      <td>-1.62</td>\n",
              "      <td>0.87</td>\n",
              "      <td>-11.03</td>\n",
              "      <td>12.47</td>\n",
              "      <td>133.50</td>\n",
              "    </tr>\n",
              "    <tr>\n",
              "      <th>3</th>\n",
              "      <td>0.92</td>\n",
              "      <td>-1.04</td>\n",
              "      <td>-0.05</td>\n",
              "      <td>18.09</td>\n",
              "      <td>3.55</td>\n",
              "      <td>-9.74</td>\n",
              "    </tr>\n",
              "    <tr>\n",
              "      <th>4</th>\n",
              "      <td>1.36</td>\n",
              "      <td>-0.49</td>\n",
              "      <td>0.43</td>\n",
              "      <td>7.85</td>\n",
              "      <td>18.94</td>\n",
              "      <td>74.48</td>\n",
              "    </tr>\n",
              "  </tbody>\n",
              "</table>\n",
              "</div>"
            ],
            "text/plain": [
              "   theta1  theta2  theta3      x      y     phi\n",
              "0    2.90   -0.11   -0.78 -16.35  10.42  115.16\n",
              "1    2.24   -0.35   -1.52  -0.01  14.67   21.20\n",
              "2    3.08   -1.62    0.87 -11.03  12.47  133.50\n",
              "3    0.92   -1.04   -0.05  18.09   3.55   -9.74\n",
              "4    1.36   -0.49    0.43   7.85  18.94   74.48"
            ]
          },
          "metadata": {
            "tags": []
          },
          "execution_count": 4
        }
      ]
    },
    {
      "cell_type": "code",
      "metadata": {
        "colab": {
          "base_uri": "https://localhost:8080/",
          "height": 265
        },
        "id": "GtS_5sBaN9r_",
        "outputId": "a0160889-416e-4253-a3bb-a2fc03e704ba"
      },
      "source": [
        "\n",
        "plt.scatter(three_link_data['x'], three_link_data['y'])\n",
        "plt.show()"
      ],
      "execution_count": 5,
      "outputs": [
        {
          "output_type": "display_data",
          "data": {
            "image/png": "[encoded data removed]",
            "text/plain": [
              "<Figure size 432x288 with 1 Axes>"
            ]
          },
          "metadata": {
            "tags": [],
            "needs_background": "light"
          }
        }
      ]
    },
    {
      "cell_type": "code",
      "metadata": {
        "id": "B1gupLqyN_0Z"
      },
      "source": [
        "# Splitting training and testing dataset\n",
        "\n",
        "X = three_link_data[['x', 'y', 'phi']]\n",
        "y = three_link_data[['theta1', 'theta2', 'theta3']]\n",
        "train_X, test_X, train_y, test_y = train_test_split(X, y, test_size=0.1)"
      ],
      "execution_count": 6,
      "outputs": []
    },
    {
      "cell_type": "code",
      "metadata": {
        "colab": {
          "base_uri": "https://localhost:8080/"
        },
        "id": "JYAMcXxXOBrg",
        "outputId": "2d11a858-6902-43b2-f92c-68d3d7a0564c"
      },
      "source": [
        "# Defining model\n",
        "\n",
        "model = models.Sequential()\n",
        "model.add(layers.Dense(units=3, input_dim=3, kernel_initializer='uniform'))\n",
        "model.add(layers.Dense(units=100, kernel_initializer='uniform', activation='relu'))\n",
        "model.add(layers.Dense(units=100, kernel_initializer='uniform', activation='relu'))\n",
        "model.add(layers.Dense(units=3, kernel_initializer = 'uniform', activation='linear'))\n",
        "\n",
        "model.summary()"
      ],
      "execution_count": 7,
      "outputs": [
        {
          "output_type": "stream",
          "text": [
            "Model: \"sequential\"\n",
            "_________________________________________________________________\n",
            "Layer (type)                 Output Shape              Param #   \n",
            "=================================================================\n",
            "dense (Dense)                (None, 3)                 12        \n",
            "_________________________________________________________________\n",
            "dense_1 (Dense)              (None, 100)               400       \n",
            "_________________________________________________________________\n",
            "dense_2 (Dense)              (None, 100)               10100     \n",
            "_________________________________________________________________\n",
            "dense_3 (Dense)              (None, 3)                 303       \n",
            "=================================================================\n",
            "Total params: 10,815\n",
            "Trainable params: 10,815\n",
            "Non-trainable params: 0\n",
            "_________________________________________________________________\n"
          ],
          "name": "stdout"
        }
      ]
    },
    {
      "cell_type": "code",
      "metadata": {
        "id": "h-VQYVlZOEa0"
      },
      "source": [
        "model.compile(optimizer='adam', loss='mean_squared_error', metrics=['accuracy'])"
      ],
      "execution_count": 8,
      "outputs": []
    },
    {
      "cell_type": "code",
      "metadata": {
        "colab": {
          "base_uri": "https://localhost:8080/"
        },
        "id": "sOjBwo9oOGf5",
        "outputId": "a600f4c4-93fd-4845-85ca-c742e46083db"
      },
      "source": [
        "# Training model\n",
        "\n",
        "history = model.fit(train_X, train_y, epochs=30, validation_split=0.1, shuffle=True)"
      ],
      "execution_count": 9,
      "outputs": [
        {
          "output_type": "stream",
          "text": [
            "Epoch 1/30\n",
            "2532/2532 [==============================] - 5s 2ms/step - loss: 0.4486 - accuracy: 0.9083 - val_loss: 0.0528 - val_accuracy: 0.9654\n",
            "Epoch 2/30\n",
            "2532/2532 [==============================] - 4s 2ms/step - loss: 0.0404 - accuracy: 0.9656 - val_loss: 0.0514 - val_accuracy: 0.9602\n",
            "Epoch 3/30\n",
            "2532/2532 [==============================] - 4s 2ms/step - loss: 0.0317 - accuracy: 0.9712 - val_loss: 0.0254 - val_accuracy: 0.9792\n",
            "Epoch 4/30\n",
            "2532/2532 [==============================] - 4s 2ms/step - loss: 0.0267 - accuracy: 0.9750 - val_loss: 0.0218 - val_accuracy: 0.9772\n",
            "Epoch 5/30\n",
            "2532/2532 [==============================] - 4s 2ms/step - loss: 0.0232 - accuracy: 0.9771 - val_loss: 0.0264 - val_accuracy: 0.9791\n",
            "Epoch 6/30\n",
            "2532/2532 [==============================] - 4s 2ms/step - loss: 0.0211 - accuracy: 0.9794 - val_loss: 0.0197 - val_accuracy: 0.9803\n",
            "Epoch 7/30\n",
            "2532/2532 [==============================] - 4s 2ms/step - loss: 0.0195 - accuracy: 0.9787 - val_loss: 0.0171 - val_accuracy: 0.9784\n",
            "Epoch 8/30\n",
            "2532/2532 [==============================] - 4s 2ms/step - loss: 0.0182 - accuracy: 0.9793 - val_loss: 0.0156 - val_accuracy: 0.9817\n",
            "Epoch 9/30\n",
            "2532/2532 [==============================] - 4s 2ms/step - loss: 0.0178 - accuracy: 0.9794 - val_loss: 0.0239 - val_accuracy: 0.9747\n",
            "Epoch 10/30\n",
            "2532/2532 [==============================] - 4s 2ms/step - loss: 0.0185 - accuracy: 0.9806 - val_loss: 0.0164 - val_accuracy: 0.9796\n",
            "Epoch 11/30\n",
            "2532/2532 [==============================] - 4s 2ms/step - loss: 0.0162 - accuracy: 0.9805 - val_loss: 0.0140 - val_accuracy: 0.9868\n",
            "Epoch 12/30\n",
            "2532/2532 [==============================] - 4s 2ms/step - loss: 0.0160 - accuracy: 0.9819 - val_loss: 0.0174 - val_accuracy: 0.9834\n",
            "Epoch 13/30\n",
            "2532/2532 [==============================] - 4s 2ms/step - loss: 0.0155 - accuracy: 0.9817 - val_loss: 0.0122 - val_accuracy: 0.9840\n",
            "Epoch 14/30\n",
            "2532/2532 [==============================] - 4s 2ms/step - loss: 0.0163 - accuracy: 0.9799 - val_loss: 0.0127 - val_accuracy: 0.9802\n",
            "Epoch 15/30\n",
            "2532/2532 [==============================] - 4s 2ms/step - loss: 0.0156 - accuracy: 0.9816 - val_loss: 0.0173 - val_accuracy: 0.9848\n",
            "Epoch 16/30\n",
            "2532/2532 [==============================] - 4s 2ms/step - loss: 0.0153 - accuracy: 0.9807 - val_loss: 0.0190 - val_accuracy: 0.9748\n",
            "Epoch 17/30\n",
            "2532/2532 [==============================] - 4s 2ms/step - loss: 0.0149 - accuracy: 0.9821 - val_loss: 0.0251 - val_accuracy: 0.9777\n",
            "Epoch 18/30\n",
            "2532/2532 [==============================] - 4s 2ms/step - loss: 0.0143 - accuracy: 0.9819 - val_loss: 0.0181 - val_accuracy: 0.9851\n",
            "Epoch 19/30\n",
            "2532/2532 [==============================] - 4s 2ms/step - loss: 0.0142 - accuracy: 0.9825 - val_loss: 0.0107 - val_accuracy: 0.9863\n",
            "Epoch 20/30\n",
            "2532/2532 [==============================] - 4s 2ms/step - loss: 0.0138 - accuracy: 0.9835 - val_loss: 0.0149 - val_accuracy: 0.9829\n",
            "Epoch 21/30\n",
            "2532/2532 [==============================] - 5s 2ms/step - loss: 0.0133 - accuracy: 0.9849 - val_loss: 0.0143 - val_accuracy: 0.9880\n",
            "Epoch 22/30\n",
            "2532/2532 [==============================] - 5s 2ms/step - loss: 0.0141 - accuracy: 0.9834 - val_loss: 0.0100 - val_accuracy: 0.9872\n",
            "Epoch 23/30\n",
            "2532/2532 [==============================] - 5s 2ms/step - loss: 0.0122 - accuracy: 0.9854 - val_loss: 0.0116 - val_accuracy: 0.9851\n",
            "Epoch 24/30\n",
            "2532/2532 [==============================] - 4s 2ms/step - loss: 0.0134 - accuracy: 0.9844 - val_loss: 0.0122 - val_accuracy: 0.9864\n",
            "Epoch 25/30\n",
            "2532/2532 [==============================] - 4s 2ms/step - loss: 0.0134 - accuracy: 0.9846 - val_loss: 0.0138 - val_accuracy: 0.9842\n",
            "Epoch 26/30\n",
            "2532/2532 [==============================] - 4s 2ms/step - loss: 0.0126 - accuracy: 0.9840 - val_loss: 0.0082 - val_accuracy: 0.9864\n",
            "Epoch 27/30\n",
            "2532/2532 [==============================] - 4s 2ms/step - loss: 0.0116 - accuracy: 0.9857 - val_loss: 0.0125 - val_accuracy: 0.9827\n",
            "Epoch 28/30\n",
            "2532/2532 [==============================] - 4s 2ms/step - loss: 0.0120 - accuracy: 0.9848 - val_loss: 0.0101 - val_accuracy: 0.9860\n",
            "Epoch 29/30\n",
            "2532/2532 [==============================] - 4s 2ms/step - loss: 0.0118 - accuracy: 0.9854 - val_loss: 0.0171 - val_accuracy: 0.9870\n",
            "Epoch 30/30\n",
            "2532/2532 [==============================] - 4s 2ms/step - loss: 0.0122 - accuracy: 0.9853 - val_loss: 0.0130 - val_accuracy: 0.9789\n"
          ],
          "name": "stdout"
        }
      ]
    },
    {
      "cell_type": "code",
      "metadata": {
        "colab": {
          "base_uri": "https://localhost:8080/",
          "height": 295
        },
        "id": "0LEm7MV7OKFP",
        "outputId": "9ecd2526-c581-4a9d-c8bf-3815b878b9ee"
      },
      "source": [
        "# Plotting model accuracy\n",
        "\n",
        "plt.plot(history.history['accuracy'])\n",
        "plt.plot(history.history['val_accuracy'])\n",
        "plt.title('model accuracy')\n",
        "plt.ylabel('accuracy')\n",
        "plt.xlabel('epoch')\n",
        "plt.legend(['train', 'val'], loc='upper left')\n",
        "plt.show()"
      ],
      "execution_count": 10,
      "outputs": [
        {
          "output_type": "display_data",
          "data": {
            "image/png": "[encoded data removed]",
            "text/plain": [
              "<Figure size 432x288 with 1 Axes>"
            ]
          },
          "metadata": {
            "tags": [],
            "needs_background": "light"
          }
        }
      ]
    },
    {
      "cell_type": "code",
      "metadata": {
        "colab": {
          "base_uri": "https://localhost:8080/",
          "height": 295
        },
        "id": "RZud03ziOpHo",
        "outputId": "0551e0a1-bcd2-4417-b0e3-22a31eeb537d"
      },
      "source": [
        "# Plotting model loss\n",
        "\n",
        "plt.plot(history.history['loss'])\n",
        "plt.plot(history.history['val_loss'])\n",
        "plt.title('model loss')\n",
        "plt.ylabel('loss')\n",
        "plt.xlabel('epoch')\n",
        "plt.legend(['train', 'val'], loc='upper left')\n",
        "plt.show()"
      ],
      "execution_count": 11,
      "outputs": [
        {
          "output_type": "display_data",
          "data": {
            "image/png": "[encoded data removed]",
            "text/plain": [
              "<Figure size 432x288 with 1 Axes>"
            ]
          },
          "metadata": {
            "tags": [],
            "needs_background": "light"
          }
        }
      ]
    },
    {
      "cell_type": "code",
      "metadata": {
        "colab": {
          "base_uri": "https://localhost:8080/"
        },
        "id": "xCpOOHHsOrVg",
        "outputId": "8e2ac7ee-bf75-4a8b-8243-7cca9d2d0acd"
      },
      "source": [
        "\n",
        "# Evaluating the model on test set\n",
        "\n",
        "test_loss, test_acc = model.evaluate(test_X, test_y)\n",
        "\n",
        "print('\\nTesting Loss = ', test_loss) \n",
        "print('Testing Accuracy = ', test_acc)"
      ],
      "execution_count": 12,
      "outputs": [
        {
          "output_type": "stream",
          "text": [
            "313/313 [==============================] - 0s 960us/step - loss: 0.0127 - accuracy: 0.9792\n",
            "\n",
            "Testing Loss =  0.01266072504222393\n",
            "Testing Accuracy =  0.979200005531311\n"
          ],
          "name": "stdout"
        }
      ]
    },
    {
      "cell_type": "code",
      "metadata": {
        "colab": {
          "base_uri": "https://localhost:8080/"
        },
        "id": "LBWguSt0OvU6",
        "outputId": "55473b4d-5be6-4ee1-ad80-162b347604ce"
      },
      "source": [
        "!pip install -q ann_visualizer\n",
        "\n",
        "from ann_visualizer.visualize import ann_viz;\n",
        "ann_viz(model, title=\"3-link manipulator neural network\")"
      ],
      "execution_count": 13,
      "outputs": [
        {
          "output_type": "stream",
          "text": [
            "  Building wheel for ann-visualizer (setup.py) ... \u001b[?25l\u001b[?25hdone\n"
          ],
          "name": "stdout"
        }
      ]
    },
    {
      "cell_type": "code",
      "metadata": {
        "id": "vgqCfwYrOxxJ"
      },
      "source": [
        "def iiitm_dataset():\n",
        "    rows = []\n",
        "\n",
        "    # for I\n",
        "    arr = np.linspace(5, 7, 100)\n",
        "    for y in arr:\n",
        "        x = 6\n",
        "        theta = math.degrees(math.atan(y/x))\n",
        "        rows.append([x, y, theta])\n",
        "\n",
        "    # for I\n",
        "    arr = np.linspace(5, 7, 100)\n",
        "    for y in arr:\n",
        "        x = 7\n",
        "        theta = math.degrees(math.atan(y/x))\n",
        "        rows.append([x, y, theta])\n",
        "\n",
        "    # for I\n",
        "    arr = np.linspace(5, 7, 100)\n",
        "    for y in arr:\n",
        "        x = 8\n",
        "        theta = math.degrees(math.atan(y/x))\n",
        "        rows.append([x, y, theta])\n",
        "\n",
        "    # for T\n",
        "    arr = np.linspace(8.5, 10.5, 100)\n",
        "    for x in arr:\n",
        "        y = 7\n",
        "        theta = math.degrees(math.atan(y/x))\n",
        "        rows.append([x, y, theta])\n",
        "\n",
        "    arr = np.linspace(5, 7, 100)\n",
        "    for y in arr:\n",
        "        x = 9.5\n",
        "        theta = math.degrees(math.atan(y/x))\n",
        "        rows.append([x, y, theta])\n",
        "\n",
        "    # for M\n",
        "    arr = np.linspace(5, 7, 100)\n",
        "    for y in arr:\n",
        "        x = 11\n",
        "        theta = math.degrees(math.atan(y/x))\n",
        "        rows.append([x, y, theta])\n",
        "\n",
        "    arr = np.linspace(5, 7, 100)\n",
        "    for y in arr:\n",
        "        x = ((-y)+29)/2\n",
        "        theta = math.degrees(math.atan(y/x))\n",
        "        rows.append([x, y, theta])\n",
        "\n",
        "    arr = np.linspace(5, 7, 100)\n",
        "    for y in arr:\n",
        "        x = ((y)+19)/2\n",
        "        theta = math.degrees(math.atan(y/x))\n",
        "        rows.append([x, y, theta])\n",
        "\n",
        "    arr = np.linspace(5, 7, 100)\n",
        "    for y in arr:\n",
        "        x = 13\n",
        "        theta = math.degrees(math.atan(y/x))\n",
        "        rows.append([x, y, theta])\n",
        "\n",
        "    df = pd.DataFrame(rows, columns=['x', 'y', 'theta'])\n",
        "    df.to_csv('iiitm.csv', index=False)\n",
        "    \n",
        "iiitm_dataset()"
      ],
      "execution_count": 14,
      "outputs": []
    },
    {
      "cell_type": "code",
      "metadata": {
        "id": "VnrWe37cO34L"
      },
      "source": [
        "def three_link_forward_kinematics(theta1, theta2, theta3):\n",
        "    x = (np.cos(theta1)*l1)+(np.cos(theta1+theta2)*l2)+(np.cos(theta1+theta2+theta3)*l3)\n",
        "    y = (np.sin(theta1)*l1)+(np.sin(theta1+theta2)*l2)+(np.sin(theta1+theta2+theta3)*l3)\n",
        "\n",
        "    return x, y"
      ],
      "execution_count": 15,
      "outputs": []
    },
    {
      "cell_type": "code",
      "metadata": {
        "id": "4ZBboPV-O6wW"
      },
      "source": [
        "iiitm_data = pd.read_csv('iiitm.csv')\n",
        "iiitm_predictions = model.predict(iiitm_data.values)\n",
        "x_predictions, y_predictions = three_link_forward_kinematics(iiitm_predictions[:,0], iiitm_predictions[:,1], iiitm_predictions[:,2])"
      ],
      "execution_count": 16,
      "outputs": []
    },
    {
      "cell_type": "code",
      "metadata": {
        "colab": {
          "base_uri": "https://localhost:8080/",
          "height": 761
        },
        "id": "cEbxFD3ZO8n-",
        "outputId": "7f3d4d7d-1c3c-49d4-90dd-cf6733daa656"
      },
      "source": [
        "# Original\n",
        "plt.plot(iiitm_data['x'], iiitm_data['y'], 'go')\n",
        "plt.show()\n",
        "\n",
        "# Predicted\n",
        "plt.plot(x_predictions, y_predictions, 'bo')\n",
        "plt.show()\n",
        "\n",
        "# Original and Predicted\n",
        "plt.plot(iiitm_data['x'], iiitm_data['y'], 'go')\n",
        "plt.plot(x_predictions, y_predictions, 'bo')\n",
        "plt.show()"
      ],
      "execution_count": 17,
      "outputs": [
        {
          "output_type": "display_data",
          "data": {
            "image/png": "[encoded data removed]",
            "text/plain": [
              "<Figure size 432x288 with 1 Axes>"
            ]
          },
          "metadata": {
            "tags": [],
            "needs_background": "light"
          }
        },
        {
          "output_type": "display_data",
          "data": {
            "image/png": "[encoded data removed]",
            "text/plain": [
              "<Figure size 432x288 with 1 Axes>"
            ]
          },
          "metadata": {
            "tags": [],
            "needs_background": "light"
          }
        },
        {
          "output_type": "display_data",
          "data": {
            "image/png": "[encoded data removed]",
            "text/plain": [
              "<Figure size 432x288 with 1 Axes>"
            ]
          },
          "metadata": {
            "tags": [],
            "needs_background": "light"
          }
        }
      ]
    },
    {
      "cell_type": "code",
      "metadata": {
        "id": "u805xfz_PAzt"
      },
      "source": [
        ""
      ],
      "execution_count": null,
      "outputs": []
    }
  ]
}